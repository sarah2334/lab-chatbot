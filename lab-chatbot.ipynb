{
 "cells": [
  {
   "cell_type": "markdown",
   "id": "a9183228-0ba6-4af9-8430-649e28868253",
   "metadata": {
    "id": "JMXGlIvAwn30"
   },
   "source": [
    "# **The Chat Format**\n",
    "\n",
    "In this notebook, you will explore how you can utilize the chat format to have extended conversations with chatbots personalized or specialized for specific tasks or behaviors.\n",
    "\n",
    "## Setup"
   ]
  },
  {
   "cell_type": "code",
   "execution_count": null,
   "id": "7fa0d9b5",
   "metadata": {
    "tags": []
   },
   "outputs": [],
   "source": [
    "from openai import OpenAI\n",
    "import os\n",
    "\n",
    "from dotenv import load_dotenv, find_dotenv\n",
    "_ = load_dotenv(find_dotenv()) # read local .env file\n",
    "\n",
    "OPENAI_API_KEY  = os.getenv('OPENAI_API_KEY')"
   ]
  },
  {
   "cell_type": "code",
   "execution_count": null,
   "id": "f5308d65",
   "metadata": {
    "tags": []
   },
   "outputs": [],
   "source": [
    "client = OpenAI(\n",
    "    # This is the default and can be omitted\n",
    "    api_key=OPENAI_API_KEY,\n",
    ")\n",
    "\n",
    "def get_completion(prompt, model=\"gpt-3.5-turbo\", temperature=0): \n",
    "    messages = [{\"role\": \"user\", \"content\": prompt}]\n",
    "    response = client.chat.completions.create(\n",
    "        model=model,\n",
    "        messages=messages,\n",
    "        temperature=temperature, \n",
    "    )\n",
    "    return response.choices[0].message.content\n",
    "\n",
    "\n",
    "def get_completion_from_messages(message, model=\"gpt-3.5-turbo\", temperature=0): \n",
    "    response = client.chat.completions.create(\n",
    "        model=model,\n",
    "        messages=message,\n",
    "        temperature=temperature, \n",
    "    )\n",
    "    return response.choices[0].message.content"
   ]
  },
  {
   "cell_type": "code",
   "execution_count": null,
   "id": "cee681b7",
   "metadata": {
    "tags": []
   },
   "outputs": [],
   "source": [
    "messages =  [  \n",
    "{'role':'system', 'content':'You are an assistant that speaks like Shakespeare.'},    \n",
    "{'role':'user', 'content':'tell me a joke'},   \n",
    "{'role':'assistant', 'content':'Why did the chicken cross the road'},   \n",
    "{'role':'user', 'content':'I don\\'t know'}  ]"
   ]
  },
  {
   "cell_type": "code",
   "execution_count": null,
   "id": "da45ea0f",
   "metadata": {
    "tags": []
   },
   "outputs": [],
   "source": [
    "response = get_completion_from_messages(messages, temperature=1)\n",
    "print(response)"
   ]
  },
  {
   "cell_type": "code",
   "execution_count": null,
   "id": "ca733f8f",
   "metadata": {
    "tags": []
   },
   "outputs": [],
   "source": [
    "messages =  [  \n",
    "{'role':'system', 'content':'You are friendly chatbot.'},    \n",
    "{'role':'user', 'content':'Hi, my name is Isa'}  ]\n",
    "response = get_completion_from_messages(messages, temperature=1)\n",
    "print(response)"
   ]
  },
  {
   "cell_type": "code",
   "execution_count": null,
   "id": "0ae595bc",
   "metadata": {
    "tags": []
   },
   "outputs": [],
   "source": [
    "messages =  [  \n",
    "{'role':'system', 'content':'You are friendly chatbot.'},    \n",
    "{'role':'user', 'content':'Yes,  can you remind me, What is my name?'}  ]\n",
    "response = get_completion_from_messages(messages, temperature=1)\n",
    "print(response)"
   ]
  },
  {
   "cell_type": "code",
   "execution_count": null,
   "id": "56cbb817",
   "metadata": {
    "tags": []
   },
   "outputs": [],
   "source": [
    "messages =  [  \n",
    "{'role':'system', 'content':'You are friendly chatbot.'},\n",
    "{'role':'user', 'content':'Hi, my name is Isa'},\n",
    "{'role':'assistant', 'content': \"Hi Isa! It's nice to meet you. \\\n",
    "Is there anything I can help you with today?\"},\n",
    "{'role':'user', 'content':'Yes, you can remind me, What is my name?'}  ]\n",
    "response = get_completion_from_messages(messages, temperature=1)\n",
    "print(response)"
   ]
  },
  {
   "cell_type": "markdown",
   "id": "dedba66a-58b0-40d4-b9ae-47e79ae22328",
   "metadata": {
    "id": "bBg_MpXeYnTq"
   },
   "source": [
    "# OrderBot\n",
    "We can automate the collection of user prompts and assistant responses to build a  OrderBot. The OrderBot will take orders at a pizza restaurant. "
   ]
  },
  {
   "cell_type": "code",
   "execution_count": null,
   "id": "e76749ac",
   "metadata": {
    "tags": []
   },
   "outputs": [],
   "source": [
    "def collect_messages(_):\n",
    "    prompt = inp.value_input\n",
    "    inp.value = ''\n",
    "    context.append({'role':'user', 'content':f\"{prompt}\"})\n",
    "    response = get_completion_from_messages(context) \n",
    "    context.append({'role':'assistant', 'content':f\"{response}\"})\n",
    "    panels.append(\n",
    "        pn.Row('User:', pn.pane.Markdown(prompt, width=600)))\n",
    "    panels.append(\n",
    "        pn.Row('Assistant:', pn.pane.Markdown(response, width=600, styles={'background-color': '#F6F6F6'})))\n",
    " \n",
    "    return pn.Column(*panels)\n"
   ]
  },
  {
   "cell_type": "code",
   "execution_count": null,
   "id": "89b7053a",
   "metadata": {},
   "outputs": [],
   "source": [
    "#!pip install jupyter_bokeh"
   ]
  },
  {
   "cell_type": "code",
   "execution_count": null,
   "id": "474b557c",
   "metadata": {
    "tags": []
   },
   "outputs": [],
   "source": [
    "import panel as pn  # GUI\n",
    "pn.extension()\n",
    "\n",
    "panels = [] # collect display \n",
    "\n",
    "context = [ {'role':'system', 'content':\"\"\"\n",
    "You are OrderBot, an automated service to collect orders for a pizza restaurant. \\\n",
    "You first greet the customer, then collects the order, \\\n",
    "and then asks if it's a pickup or delivery. \\\n",
    "You wait to collect the entire order, then summarize it and check for a final \\\n",
    "time if the customer wants to add anything else. \\\n",
    "If it's a delivery, you ask for an address. \\\n",
    "Finally you collect the payment.\\\n",
    "Make sure to clarify all options, extras and sizes to uniquely \\\n",
    "identify the item from the menu.\\\n",
    "You respond in a short, very conversational friendly style. \\\n",
    "The menu includes \\\n",
    "pepperoni pizza  12.95, 10.00, 7.00 \\\n",
    "cheese pizza   10.95, 9.25, 6.50 \\\n",
    "eggplant pizza   11.95, 9.75, 6.75 \\\n",
    "fries 4.50, 3.50 \\\n",
    "greek salad 7.25 \\\n",
    "Toppings: \\\n",
    "extra cheese 2.00, \\\n",
    "mushrooms 1.50 \\\n",
    "sausage 3.00 \\\n",
    "canadian bacon 3.50 \\\n",
    "AI sauce 1.50 \\\n",
    "peppers 1.00 \\\n",
    "Drinks: \\\n",
    "coke 3.00, 2.00, 1.00 \\\n",
    "sprite 3.00, 2.00, 1.00 \\\n",
    "bottled water 5.00 \\\n",
    "\"\"\"} ]  # accumulate messages\n",
    "\n",
    "\n",
    "inp = pn.widgets.TextInput(value=\"Hi\", placeholder='Enter text here…')\n",
    "button_conversation = pn.widgets.Button(name=\"Chat!\")\n",
    "\n",
    "interactive_conversation = pn.bind(collect_messages, button_conversation)\n",
    "\n",
    "dashboard = pn.Column(\n",
    "    inp,\n",
    "    pn.Row(button_conversation),\n",
    "    pn.panel(interactive_conversation, loading_indicator=True, height=300),\n",
    ")\n",
    "\n",
    "dashboard"
   ]
  },
  {
   "cell_type": "code",
   "execution_count": null,
   "id": "a0ee11b9",
   "metadata": {},
   "outputs": [],
   "source": [
    "messages =  context.copy()\n",
    "messages.append(\n",
    "{'role':'system', 'content':'create a json summary of the previous food order. Itemize the price for each item\\\n",
    " The fields should be 1) pizza, include size 2) list of toppings 3) list of drinks, include size   4) list of sides include size  5)total price '},    \n",
    ")\n",
    " #The fields should be 1) pizza, price 2) list of toppings 3) list of drinks, include size include price  4) list of sides include size include price, 5)total price '},    \n",
    "\n",
    "response = get_completion_from_messages(messages, temperature=0)\n",
    "print(response)"
   ]
  },
  {
   "cell_type": "markdown",
   "id": "3153c581-1c72-497a-9293-8db3bcb804fc",
   "metadata": {},
   "source": [
    "## Try experimenting on your own!\n",
    "\n",
    "You can modify the menu or instructions to create your own orderbot!"
   ]
  },
  {
   "cell_type": "markdown",
   "id": "7420ff21-68da-49ae-955f-49e8bffa769c",
   "metadata": {},
   "source": [
    "# Exercise\n",
    " - Complete the prompts similar to what we did in class. \n",
    "     - Try at least 3 versions\n",
    "     - Be creative\n",
    " - Write a one page report summarizing your findings.\n",
    "     - Were there variations that didn't work well? i.e., where GPT either hallucinated or wrong\n",
    " - What did you learn?"
   ]
  },
  {
   "cell_type": "markdown",
   "id": "5b2d1ad1",
   "metadata": {},
   "source": []
  },
  {
   "cell_type": "markdown",
   "id": "677daf6c",
   "metadata": {},
   "source": [
    "Variation 1: Sushi Restaurant Bot"
   ]
  },
  {
   "cell_type": "code",
   "execution_count": null,
   "id": "7aff0ebf-dda8-4b18-a704-393243a0a205",
   "metadata": {},
   "outputs": [],
   "source": [
    "context = [{'role':'system', 'content':\"\"\"\n",
    "You are SushiBot, an automated service for a sushi restaurant. \\\n",
    "Greet the customer warmly, then collect their order. \\\n",
    "Ask if they prefer nigiri, sashimi, or maki rolls. \\\n",
    "For maki, clarify the type (e.g., California, Spicy Tuna) and number of pieces. \\\n",
    "Check for extras like soy sauce, wasabi, or ginger. \\\n",
    "Confirm pickup/delivery and address if needed. \\\n",
    "Summarize the order and verify additions. \\\n",
    "Menu includes:\n",
    "- Nigiri (2 pieces): Salmon $5, Tuna $6, Eel $7 \\\n",
    "- Sashimi (5 pieces): Salmon $10, Tuna $12 \\\n",
    "- Maki Rolls (8 pieces): California $8, Spicy Tuna $9, Dragon Roll $12 \\\n",
    "- Sides: Miso Soup $3, Edamame $4 \\\n",
    "- Extras: Extra Ginger $1, Wasabi $0.50 \\\n",
    "\"\"\"}]"
   ]
  },
  {
   "cell_type": "code",
   "execution_count": null,
   "id": "c58cef20",
   "metadata": {},
   "outputs": [],
   "source": [
    "{\n",
    "  \"sushi\": [\n",
    "    {\"type\": \"California Roll\", \"quantity\": 1}\n",
    "  ],\n",
    "  \"sides\": [\"Miso Soup\"],\n",
    "  \"extras\": [],\n",
    "  \"total price\": 11.00\n",
    "}"
   ]
  },
  {
   "cell_type": "code",
   "execution_count": null,
   "id": "947a0fec",
   "metadata": {},
   "outputs": [],
   "source": [
    "messages =  [  \n",
    "{'role':'system', 'content':'You are friendly chatbot.'},    \n",
    "{'role':'user', 'content':'Hi, I want to order sushi'}  ]\n",
    "response = get_completion_from_messages(messages, temperature=1)\n",
    "print(response)"
   ]
  },
  {
   "cell_type": "markdown",
   "id": "1681e394",
   "metadata": {},
   "source": [
    "Variation 2: Formal Tone Bot"
   ]
  },
  {
   "cell_type": "code",
   "execution_count": null,
   "id": "5e6c24cc",
   "metadata": {},
   "outputs": [],
   "source": [
    "context = [{'role':'system', 'content':\"\"\"\n",
    "You are OrderBot, an automated service for *La Pizzeria Elegante*. \\\n",
    "Address customers as \"Sir/Madam\" and use formal language. \\\n",
    "Begin with, \"Good day! How may I assist you with your order today?\" \\\n",
    "Clarify pizza sizes (Small, Medium, Large) and toppings with utmost politeness. \\\n",
    "Confirm orders with phrases like, \"Shall I finalize your order, Sir/Madam?\" \\\n",
    "\"\"\"}]"
   ]
  },
  {
   "cell_type": "code",
   "execution_count": null,
   "id": "bf46968a",
   "metadata": {},
   "outputs": [],
   "source": [
    "{\n",
    "  \"pizza\": {\"type\": \"Pepperoni\", \"size\": \"Large\", \"toppings\": [\"Extra Cheese\"]},\n",
    "  \"total price\": 14.95\n",
    "}"
   ]
  },
  {
   "cell_type": "code",
   "execution_count": null,
   "id": "0db62a1d",
   "metadata": {},
   "outputs": [],
   "source": [
    "messages =  [  \n",
    "{'role':'system', 'content':'You are friendly chatbot.'},    \n",
    "{'role':'user', 'content':'Hi, I’d like a pizza'}  ]\n",
    "response = get_completion_from_messages(messages, temperature=1)\n",
    "print(response)"
   ]
  },
  {
   "cell_type": "markdown",
   "id": "e9b6234e",
   "metadata": {},
   "source": [
    "Variation 3: Dietary Restrictions Bot"
   ]
  },
  {
   "cell_type": "code",
   "execution_count": null,
   "id": "983c957a",
   "metadata": {},
   "outputs": [],
   "source": [
    "context = [{'role':'system', 'content':\"\"\"\n",
    "You are HealthBot. First, ask if the customer has dietary restrictions. \\\n",
    "Recommend suitable items: Vegan Pizza (no cheese, extra veggies), Gluten-Free Crust. \\\n",
    "Ensure all toppings/sides align with their needs. \\\n",
    "Menu includes:\n",
    "- Vegan Pizza: $12.50 (Small), $14.50 (Medium) \\\n",
    "- Gluten-Free Crust: +$2.00 \\\n",
    "- Toppings: Mushrooms $1.50, Spinach $1.00, Vegan Cheese $2.50 \\\n",
    "\"\"\"}]"
   ]
  },
  {
   "cell_type": "code",
   "execution_count": null,
   "id": "4e1a1f8c",
   "metadata": {},
   "outputs": [],
   "source": [
    "{\n",
    "  \"pizza\": {\"type\": \"Vegan\", \"size\": \"Medium\", \"toppings\": []},\n",
    "  \"total price\": 14.50\n",
    "}"
   ]
  },
  {
   "cell_type": "code",
   "execution_count": null,
   "id": "0386b917",
   "metadata": {},
   "outputs": [],
   "source": [
    "# Report Summary\n",
    "\n",
    "# Key Observations:\n",
    "\n",
    "# Adaptability: The bot handled menu changes well (e.g., sushi) but occasionally missed pricing details.\n",
    "\n",
    "# Tone Consistency: Formal tone worked but sometimes skipped steps (e.g., delivery address).\n",
    "\n",
    "# Dietary Focus: Successfully asked about restrictions but needed prompts to suggest relevant toppings.\n",
    "\n",
    "\n",
    "# Challenges:\n",
    "\n",
    "# Hallucinations: Incorrect pricing in JSON summaries.\n",
    "\n",
    "# Rigid Flow: Overly structured prompts sometimes led to missed steps.\n",
    "\n",
    "\n",
    "# Learnings:\n",
    "\n",
    "# Clear, explicit instructions are critical for accuracy.\n",
    "\n",
    "# Balancing creativity with specificity prevents omissions.\n",
    "\n",
    "# Testing edge cases (e.g., dietary needs) reveals gaps in the bot’s logic.\n",
    "\n",
    "\n",
    "# Conclusion:\n",
    "# Customizing prompts allows tailored interactions, but requires rigorous testing to ensure the bot adheres to menus,\n",
    "# tone, and logic. Future work could include better validation for pricing and dynamic suggestion logic."
   ]
  }
 ],
 "metadata": {
  "kernelspec": {
   "display_name": "base",
   "language": "python",
   "name": "python3"
  },
  "language_info": {
   "codemirror_mode": {
    "name": "ipython",
    "version": 3
   },
   "file_extension": ".py",
   "mimetype": "text/x-python",
   "name": "python",
   "nbconvert_exporter": "python",
   "pygments_lexer": "ipython3",
   "version": "3.11.7"
  }
 },
 "nbformat": 4,
 "nbformat_minor": 5
}
